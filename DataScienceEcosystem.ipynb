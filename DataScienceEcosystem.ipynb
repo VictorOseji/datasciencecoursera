{
 "cells": [
  {
   "cell_type": "markdown",
   "id": "1ae47ffc-393a-4e2a-a8db-f7a1a717535b",
   "metadata": {},
   "source": [
    "# Data Science Tools and Ecosystem"
   ]
  },
  {
   "cell_type": "markdown",
   "id": "c5d00f71-8da1-4446-a7ff-3fb0dad31831",
   "metadata": {},
   "source": [
    "## Author\n",
    "Victor Ogechukwu Oseji"
   ]
  },
  {
   "cell_type": "markdown",
   "id": "d8ca60fc-bc93-4e98-b1be-aba8e2186e12",
   "metadata": {},
   "source": [
    "**Exercise 3 - Create a markdown cell for an introduction**\n",
    "\n",
    "In this notebook, Data Science Tools and Ecosystem are summarized."
   ]
  },
  {
   "cell_type": "markdown",
   "id": "5cfdea85-c0f7-4308-8ce5-ac5e1c4005ca",
   "metadata": {},
   "source": [
    "**Objectives**\n",
    "- List popular languages for Data Science\n",
    "- List popular data science tools \n",
    "- Created a table and executed numeric arithmetics"
   ]
  },
  {
   "cell_type": "markdown",
   "id": "bd44078b-77dd-4448-8d97-3315bdd18057",
   "metadata": {},
   "source": [
    "**Exercise 4 - Create a markdown cell to list data science languages**\n",
    "\n",
    "Some of the popular languages that Data Scientists use are:\n",
    "1. R\n",
    "2. Python\n",
    "3. JavaScript\n",
    "4. SQL\n",
    "5. Rust"
   ]
  },
  {
   "cell_type": "markdown",
   "id": "b83da314-b876-4dce-906f-9203149c81a0",
   "metadata": {},
   "source": [
    "**Exercise 5 - Create a markdown cell to list data science libraries**\n",
    "\n",
    "Some of the commonly used libraries used by Data Scientists include:\n",
    "- Pandas\n",
    "- Numpy\n",
    "- Scikit Learn\n",
    "- Ggplot2\n",
    "- dplyr"
   ]
  },
  {
   "cell_type": "markdown",
   "id": "5e37408b-0616-4572-96d6-e565fc4ba310",
   "metadata": {},
   "source": [
    "**Exercise 6 - Create a markdown cell with a table of Data Science tools**\n",
    "\n",
    "| Data Science Tools |\n",
    "|--------------------|\n",
    "| Jupyter Notebook   |\n",
    "| Rstudio            |\n",
    "| Apache Spark       |"
   ]
  },
  {
   "cell_type": "markdown",
   "id": "d016ec9c-cf78-493e-8c41-92d4071bdde9",
   "metadata": {},
   "source": [
    "**Exercise 7 - Create a markdown cell introducing arithmetic expression examples**\n",
    "\n",
    "### Below are a few examples of evaluating arithmetic expressions in Python"
   ]
  },
  {
   "cell_type": "code",
   "execution_count": 9,
   "id": "5cba9056-9be9-4e2f-bc2c-a4669993c158",
   "metadata": {
    "jupyter": {
     "source_hidden": true
    }
   },
   "outputs": [
    {
     "data": {
      "text/plain": [
       "1129"
      ]
     },
     "execution_count": 9,
     "metadata": {},
     "output_type": "execute_result"
    }
   ],
   "source": [
    "24 * 45 + 54 - 3^2"
   ]
  },
  {
   "cell_type": "markdown",
   "id": "eedf9d70-e72e-46db-8c95-6c2c0c58442f",
   "metadata": {},
   "source": [
    "**Exercise 8 - Create a code cell to multiply and add numbers**"
   ]
  },
  {
   "cell_type": "code",
   "execution_count": 11,
   "id": "c15f3057-2a0c-4dae-a4fc-0ae9ff2f05ad",
   "metadata": {},
   "outputs": [
    {
     "data": {
      "text/plain": [
       "17"
      ]
     },
     "execution_count": 11,
     "metadata": {},
     "output_type": "execute_result"
    }
   ],
   "source": [
    "# This a simple arithmetic expression to multiply then add integers\n",
    "\n",
    "(3*4)+5"
   ]
  },
  {
   "cell_type": "markdown",
   "id": "35e814cb-d5b9-44a9-97c3-536176f227c6",
   "metadata": {},
   "source": [
    "**Exercise 9 - Create a code cell to convert minutes to hours**"
   ]
  },
  {
   "cell_type": "code",
   "execution_count": 15,
   "id": "ecdce5ff-cd73-46e9-9d7c-486dcb4ab2f9",
   "metadata": {},
   "outputs": [
    {
     "data": {
      "text/plain": [
       "'3 hours and 20 minutes'"
      ]
     },
     "execution_count": 15,
     "metadata": {},
     "output_type": "execute_result"
    }
   ],
   "source": [
    "# This will convert 200 minutes to hours by diving by 60\n",
    "\n",
    "# Convert 200 minutes to hours and minutes\n",
    "minutes = 200\n",
    "hours = minutes // 60\n",
    "remaining_minutes = minutes % 60\n",
    "\n",
    "# Format the output as hours and minutes\n",
    "time_format = f\"{hours} hours and {remaining_minutes} minutes\"\n",
    "time_format"
   ]
  }
 ],
 "metadata": {
  "kernelspec": {
   "display_name": "Python 3 (ipykernel)",
   "language": "python",
   "name": "python3"
  },
  "language_info": {
   "codemirror_mode": {
    "name": "ipython",
    "version": 3
   },
   "file_extension": ".py",
   "mimetype": "text/x-python",
   "name": "python",
   "nbconvert_exporter": "python",
   "pygments_lexer": "ipython3",
   "version": "3.12.1"
  }
 },
 "nbformat": 4,
 "nbformat_minor": 5
}
